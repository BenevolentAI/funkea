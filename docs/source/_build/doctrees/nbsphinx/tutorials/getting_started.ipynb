{
 "cells": [
  {
   "cell_type": "markdown",
   "id": "aacdcb4a-d1a5-4d61-89d4-a60d7cb1ac6e",
   "metadata": {},
   "source": [
    "# Getting Started\n",
    "\n",
    "In this tutorial, we will cover some of the basics of `funkea`, and run through a few simple examples of how one can get various enrichment results from GWAS sumstats. In these examples, we will use the `Fisher` method for computing the enrichments, as it is simple and quick."
   ]
  },
  {
   "cell_type": "code",
   "execution_count": 1,
   "id": "6d7a1794-2244-493d-8c8e-8598ec404281",
   "metadata": {
    "tags": []
   },
   "outputs": [],
   "source": [
    "from funkea.core import data\n",
    "from funkea.implementations import Fisher\n",
    "from pyspark.sql import SparkSession"
   ]
  },
  {
   "cell_type": "code",
   "execution_count": 2,
   "id": "0fd60129-d284-44f3-ae8e-6a13471ed1d4",
   "metadata": {
    "tags": []
   },
   "outputs": [],
   "source": [
    "SUMSTATS_PATH = \"data/sumstats.parquet\""
   ]
  },
  {
   "cell_type": "code",
   "execution_count": 3,
   "id": "4c3ab071-a89a-4a12-b33d-16f779abc3b2",
   "metadata": {
    "tags": []
   },
   "outputs": [
    {
     "name": "stderr",
     "output_type": "stream",
     "text": [
      "Setting default log level to \"WARN\".\n",
      "To adjust logging level use sc.setLogLevel(newLevel). For SparkR, use setLogLevel(newLevel).\n"
     ]
    },
    {
     "name": "stdout",
     "output_type": "stream",
     "text": [
      "23/04/03 19:33:04 WARN NativeCodeLoader: Unable to load native-hadoop library for your platform... using builtin-java classes where applicable\n"
     ]
    },
    {
     "name": "stderr",
     "output_type": "stream",
     "text": [
      "[Stage 2:=============================>                             (1 + 1) / 2]\r"
     ]
    },
    {
     "name": "stdout",
     "output_type": "stream",
     "text": [
      "+---+------+------------+------------+-------------+-------+------+-------------------+------+-------+\n",
      "|chr|   pos|        rsid|other_allele|effect_allele|   beta|    se|                  p|   maf|     id|\n",
      "+---+------+------------+------------+-------------+-------+------+-------------------+------+-------+\n",
      "|  1| 54591| rs561234294|           A|            G| 0.6797|0.8869|0.44350038379874507|0.0062|ieu-b-7|\n",
      "|  1| 54676|   rs2462492|           C|            T|-0.0996|0.0656|0.12870013427164811|0.3166|ieu-b-7|\n",
      "|  1| 79188| rs534350410|           G|            T| 0.6704|0.8795|0.44589951502820296|0.0062|ieu-b-7|\n",
      "|  1| 82994| rs574556077|           A|            G|-1.2614|1.8502|0.49539999743363095|0.0016|ieu-b-7|\n",
      "|  1| 86028| rs114608975|           T|            C| 0.2158|0.1222| 0.0774497463907569|0.0655|ieu-b-7|\n",
      "|  1| 90231| rs553304094|           C|            A|-1.7603|1.8868| 0.3508003354622716|0.0017|ieu-b-7|\n",
      "|  1| 91536|rs1251109649|           G|            T| -0.104|0.0625|0.09626978457810241|0.3872|ieu-b-7|\n",
      "|  1|234313|   rs8179466|           C|            T|-0.1138|0.1413|0.42049999987032305|0.0475|ieu-b-7|\n",
      "|  1|534192|   rs6680723|           C|            T|-0.0316|0.0771| 0.6815002194218266|0.1804|ieu-b-7|\n",
      "|  1|544584| rs576404767|           C|            T|-0.6397|2.0828| 0.7586998531425007|0.0018|ieu-b-7|\n",
      "|  1|546697|  rs12025928|           A|            G|-0.0212| 0.116| 0.8552000153581112|0.9244|ieu-b-7|\n",
      "|  1|565196| rs139723294|           T|            C| 0.0096|0.9084| 0.9916000043477889|0.0037|ieu-b-7|\n",
      "|  1|567006| rs565235853|           G|            T| 0.0357|0.7092| 0.9597998992309902|0.0028|ieu-b-7|\n",
      "|  1|570161| rs572999760|           G|            A| 3.5709|8.9314| 0.6892995579819929| 0.001|ieu-b-7|\n",
      "|  1|603482| rs865926247|           T|            C| -0.618|1.5999| 0.6993007596269206|0.0021|ieu-b-7|\n",
      "|  1|604070| rs560619932|           G|            A|-0.3819|0.9047| 0.6729007308527871|0.0016|ieu-b-7|\n",
      "|  1|615330|rs1275267063|           C|            T| 0.5173|2.0269| 0.7984999623552913|0.0013|ieu-b-7|\n",
      "|  1|693731|  rs12238997|           A|            G| 0.0182|0.0504| 0.7183002209122614|0.1206|ieu-b-7|\n",
      "|  1|701131| rs185335630|           A|            C| 0.9666|1.3292| 0.4671001427369878|0.0036|ieu-b-7|\n",
      "|  1|701747| rs561985667|           G|            A|-0.3853|0.9059| 0.6706006962522829|0.0016|ieu-b-7|\n",
      "+---+------+------------+------------+-------------+-------+------+-------------------+------+-------+\n",
      "only showing top 20 rows\n",
      "\n"
     ]
    },
    {
     "name": "stderr",
     "output_type": "stream",
     "text": [
      "                                                                                \r"
     ]
    }
   ],
   "source": [
    "spark = (\n",
    "    SparkSession.builder\n",
    "    .master(\"local[2]\")\n",
    "    .getOrCreate()\n",
    ")\n",
    "sumstats = spark.read.parquet(SUMSTATS_PATH)\n",
    "sumstats.show()"
   ]
  },
  {
   "cell_type": "code",
   "execution_count": 4,
   "id": "3d36e568-0828-4cea-810d-f37459c5b9ba",
   "metadata": {
    "tags": []
   },
   "outputs": [],
   "source": [
    "kegg = data.AnnotationComponent(\n",
    "    columns=data.AnnotationColumns(\n",
    "        annotation_id=\"gene_id\", partition_id=\"pathway_name\"\n",
    "    ),\n",
    "    partition_type=data.PartitionType.HARD,\n",
    "    dataset=\"data/kegg.parquet\",\n",
    ")"
   ]
  },
  {
   "cell_type": "code",
   "execution_count": 5,
   "id": "61f4cdb9-a59a-47ca-8937-cc5fae52de66",
   "metadata": {
    "tags": []
   },
   "outputs": [],
   "source": [
    "model = Fisher.default(annotation=kegg)\n",
    "enrichments = model.transform(sumstats)"
   ]
  },
  {
   "cell_type": "code",
   "execution_count": 6,
   "id": "5fa5db82-29fa-43b6-8f4e-a3edf20af94d",
   "metadata": {
    "tags": []
   },
   "outputs": [
    {
     "name": "stderr",
     "output_type": "stream",
     "text": [
      "[Stage 20:>                                                         (0 + 1) / 1]\r"
     ]
    },
    {
     "name": "stdout",
     "output_type": "stream",
     "text": [
      "+-------+------------------------------------------+----------+--------------------+\n",
      "|id     |pathway_name                              |enrichment|p_value             |\n",
      "+-------+------------------------------------------+----------+--------------------+\n",
      "|ieu-b-7|lysine degradation                        |2         |0.014877136266759378|\n",
      "|ieu-b-7|phosphatidylinositol signaling system     |2         |0.024412004705053864|\n",
      "|ieu-b-7|primary bile acid biosynthesis            |1         |0.04926694876315757 |\n",
      "|ieu-b-7|synaptic vesicle cycle                    |1         |0.05526157259817756 |\n",
      "|ieu-b-7|steroid biosynthesis                      |1         |0.05526157259817756 |\n",
      "|ieu-b-7|transcriptional misregulation in cancer   |1         |0.05526157259817756 |\n",
      "|ieu-b-7|glycosaminoglycan degradation             |1         |0.05824548059845314 |\n",
      "|ieu-b-7|fatty acid elongation                     |1         |0.07888496219190465 |\n",
      "|ieu-b-7|nicotinate and nicotinamide metabolism    |1         |0.09623519261647814 |\n",
      "|ieu-b-7|pancreatic secretion                      |1         |0.09909671707304497 |\n",
      "|ieu-b-7|valine, leucine and isoleucine degradation|1         |0.13827030506844185 |\n",
      "|ieu-b-7|salivary secretion                        |1         |0.14645266698790602 |\n",
      "|ieu-b-7|glycerolipid metabolism                   |1         |0.151866749750028   |\n",
      "|ieu-b-7|inositol phosphate metabolism             |1         |0.18886704487816777 |\n",
      "|ieu-b-7|endocrine resistance                      |1         |0.23908848327356652 |\n",
      "|ieu-b-7|glycerophospholipid metabolism            |1         |0.2487737892831583  |\n",
      "|ieu-b-7|cell adhesion molecules                   |1         |0.2654435087121782  |\n",
      "|ieu-b-7|thyroid hormone signaling pathway         |1         |0.2909347441713686  |\n",
      "|ieu-b-7|pathways of neurodegeneration             |2         |0.3218885045736931  |\n",
      "|ieu-b-7|apoptosis                                 |1         |0.32435157319227176 |\n",
      "+-------+------------------------------------------+----------+--------------------+\n",
      "only showing top 20 rows\n",
      "\n"
     ]
    },
    {
     "name": "stderr",
     "output_type": "stream",
     "text": [
      "                                                                                \r"
     ]
    }
   ],
   "source": [
    "enrichments.show(truncate=False)"
   ]
  },
  {
   "cell_type": "markdown",
   "id": "1fb98ed6-b401-491d-a163-00c4443d46cb",
   "metadata": {},
   "source": [
    "## Composability"
   ]
  },
  {
   "cell_type": "code",
   "execution_count": 7,
   "id": "a7cca932-6f69-4216-a3ee-040e729b45cc",
   "metadata": {
    "tags": []
   },
   "outputs": [],
   "source": [
    "from funkea.components import locus_definition as ld\n",
    "from funkea.components import variant_selection as vs\n",
    "from funkea.implementations import fisher"
   ]
  },
  {
   "cell_type": "code",
   "execution_count": 8,
   "id": "b5477b24-5bad-4384-bbd2-38bc7aedcbe7",
   "metadata": {
    "tags": []
   },
   "outputs": [],
   "source": [
    "model = Fisher(\n",
    "    pipeline=fisher.Pipeline(\n",
    "        ld.Compose(\n",
    "            ld.Expand(extension=(10_000, 10_000)),\n",
    "            ld.Overlap(),\n",
    "            annotation=kegg\n",
    "        ),\n",
    "        variant_selector=vs.Compose(\n",
    "            vs.AssociationThreshold(\n",
    "                threshold=5e-10\n",
    "            ),\n",
    "            vs.DropHLA(),\n",
    "            vs.DropIndel(),\n",
    "        )\n",
    "    ),\n",
    "    method=fisher.Method()\n",
    ")"
   ]
  },
  {
   "cell_type": "code",
   "execution_count": 9,
   "id": "54cbd7eb-d567-4a87-9943-df3a29a6c492",
   "metadata": {
    "tags": []
   },
   "outputs": [
    {
     "name": "stderr",
     "output_type": "stream",
     "text": [
      "                                                                                \r"
     ]
    },
    {
     "name": "stdout",
     "output_type": "stream",
     "text": [
      "+-------+------------------------------------------+----------+--------------------+\n",
      "|id     |pathway_name                              |enrichment|p_value             |\n",
      "+-------+------------------------------------------+----------+--------------------+\n",
      "|ieu-b-7|lysine degradation                        |2         |0.020013031955997095|\n",
      "|ieu-b-7|phosphatidylinositol signaling system     |2         |0.03263839498942856 |\n",
      "|ieu-b-7|primary bile acid biosynthesis            |1         |0.05725346396108495 |\n",
      "|ieu-b-7|synaptic vesicle cycle                    |1         |0.06418661410626866 |\n",
      "|ieu-b-7|terpenoid backbone biosynthesis           |1         |0.0744953589290203  |\n",
      "|ieu-b-7|fatty acid elongation                     |1         |0.09143667068429072 |\n",
      "|ieu-b-7|nicotinate and nicotinamide metabolism    |1         |0.11137648478555355 |\n",
      "|ieu-b-7|pancreatic secretion                      |1         |0.11465899908936757 |\n",
      "|ieu-b-7|axon guidance                             |2         |0.12291046584798969 |\n",
      "|ieu-b-7|valine, leucine and isoleucine degradation|1         |0.15941885179796705 |\n",
      "|ieu-b-7|n-glycan biosynthesis                     |1         |0.16253211531042422 |\n",
      "|ieu-b-7|salivary secretion                        |1         |0.1687257287534383  |\n",
      "|ieu-b-7|glycerolipid metabolism                   |1         |0.17487570229486302 |\n",
      "|ieu-b-7|inositol phosphate metabolism             |1         |0.21672791345398226 |\n",
      "|ieu-b-7|glycerophospholipid metabolism            |1         |0.2838113864207582  |\n",
      "|ieu-b-7|cell adhesion molecules                   |1         |0.3023227144364924  |\n",
      "|ieu-b-7|apoptosis                                 |1         |0.36716855661825226 |\n",
      "|ieu-b-7|pathways of neurodegeneration             |2         |0.39296978531069987 |\n",
      "|ieu-b-7|mtor signaling pathway                    |1         |0.41088110364711183 |\n",
      "|ieu-b-7|jak-stat signaling pathway                |1         |0.4412337610771021  |\n",
      "+-------+------------------------------------------+----------+--------------------+\n",
      "only showing top 20 rows\n",
      "\n"
     ]
    }
   ],
   "source": [
    "model.transform(sumstats).show(truncate=False)"
   ]
  }
 ],
 "metadata": {
  "kernelspec": {
   "display_name": "Python 3 (ipykernel)",
   "language": "python",
   "name": "python3"
  },
  "language_info": {
   "codemirror_mode": {
    "name": "ipython",
    "version": 3
   },
   "file_extension": ".py",
   "mimetype": "text/x-python",
   "name": "python",
   "nbconvert_exporter": "python",
   "pygments_lexer": "ipython3",
   "version": "3.10.9"
  }
 },
 "nbformat": 4,
 "nbformat_minor": 5
}
